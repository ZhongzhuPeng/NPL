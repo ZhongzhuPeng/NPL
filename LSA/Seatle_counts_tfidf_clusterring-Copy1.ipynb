{
 "cells": [
  {
   "cell_type": "markdown",
   "metadata": {},
   "source": [
    "# 1. Extract whole textual file to daily contents"
   ]
  },
  {
   "cell_type": "code",
   "execution_count": 1,
   "metadata": {},
   "outputs": [],
   "source": [
    "doc = open('Seattle_Reports.txt', 'rb')\n",
    "text = doc.read()\n",
    "head = '''CONTRACTORS QUALITY CONTROL REPORT (QCR)\n",
    "DAILY LOG OF CONSTRUCTION - MILITARY'''"
   ]
  },
  {
   "cell_type": "code",
   "execution_count": 2,
   "metadata": {},
   "outputs": [
    {
     "name": "stdout",
     "output_type": "stream",
     "text": [
      "881 \n",
      "881\n"
     ]
    }
   ],
   "source": [
    "contents = {} #a dict to store the reports. key: file number; value: contents of the corresponding report\n",
    "fileNum_reptNum = {} #key: file number, value: report number\n",
    "fileNum_date = {} #key: file number, value: date of the report\n",
    "start = 0\n",
    "\n",
    "import re\n",
    "\n",
    "fileNum = 0\n",
    "\n",
    "curPos = text.find(head, start)# get the position of the start of a report\n",
    "for i in range(0, 2027): #2027 pages\n",
    "    start = curPos + 1\n",
    "    nextPos = text.find(head, start)\n",
    "    content = text[curPos+len(head) : nextPos] #get contents of reports\n",
    "    curPos = nextPos\n",
    "    \n",
    "    if r'Page 1 of' in content:\n",
    "        fileNum += 1\n",
    "        repNum = text[text.find(r'Page 1 of', start)-7 : text.find(r'Page 1 of', start)-2].replace('\\n','').replace('R','')\n",
    "        fileNum_reptNum[fileNum] = repNum\n",
    "        \n",
    "        date = text[text.find(r'DATE', start)+4 : text.find(r'PROJECT', start)].replace('\\n', '')\n",
    "        fileNum_date[fileNum] = date  \n",
    "        \n",
    "        contents[fileNum] = content\n",
    "    else:\n",
    "        contents[fileNum] = contents.get(fileNum)+content\n",
    "        \n",
    "    #print contents[fileNum]\n",
    "print len(contents), '\\n', fileNum"
   ]
  },
  {
   "cell_type": "markdown",
   "metadata": {},
   "source": [
    "# 2. Obtain the set of stop words"
   ]
  },
  {
   "cell_type": "code",
   "execution_count": 3,
   "metadata": {},
   "outputs": [],
   "source": [
    "ehab_stop_words = []\n",
    "\n",
    "for word in open(r\"ehabs_stop_words.txt\",'r'):\n",
    "    ehab_stop_words.append(word.strip())\n",
    "\n",
    "from sklearn.feature_extraction import text \n",
    "\n",
    "my_stop_words = text.ENGLISH_STOP_WORDS.union(ehab_stop_words) # union the ehab's stop words and the stop words in the pachage"
   ]
  },
  {
   "cell_type": "markdown",
   "metadata": {},
   "source": [
    "# 3. Convert reports into a matrix of word frequency. This step results in a matrix of 6782 words by 881 reports. "
   ]
  },
  {
   "cell_type": "code",
   "execution_count": 4,
   "metadata": {},
   "outputs": [],
   "source": [
    "from sklearn.feature_extraction.text import CountVectorizer\n",
    "count_vect = CountVectorizer(stop_words=my_stop_words, analyzer='word')\n",
    "X_train_counts = count_vect.fit_transform(contents.values()) # counting the words in every reports\n",
    "#X_train_counts.shape "
   ]
  },
  {
   "cell_type": "code",
   "execution_count": 5,
   "metadata": {
    "collapsed": true
   },
   "outputs": [],
   "source": [
    "inv_dic = {v: k for k, v in count_vect.vocabulary_.iteritems()}"
   ]
  },
  {
   "cell_type": "markdown",
   "metadata": {},
   "source": [
    "# 4. Re-represent reports with a matrix with TF-IDF. "
   ]
  },
  {
   "cell_type": "code",
   "execution_count": 6,
   "metadata": {
    "collapsed": true
   },
   "outputs": [],
   "source": [
    "from sklearn.feature_extraction.text import TfidfVectorizer\n",
    "tfidf = TfidfVectorizer(stop_words=my_stop_words, analyzer='word') \n",
    "X_train_tfidf=tfidf.fit_transform(contents.values())"
   ]
  },
  {
   "cell_type": "code",
   "execution_count": 7,
   "metadata": {
    "collapsed": true
   },
   "outputs": [],
   "source": [
    "from sklearn.cluster import KMeans\n",
    "kmeans_word_tfidf = KMeans(n_clusters=10, init='random').fit(X_train_tfidf.transpose()) #clustering words"
   ]
  },
  {
   "cell_type": "markdown",
   "metadata": {},
   "source": [
    "# 5. Save the matrix of word frequency to a file words_counts_doc.csv"
   ]
  },
  {
   "cell_type": "code",
   "execution_count": 8,
   "metadata": {},
   "outputs": [],
   "source": [
    "import csv\n",
    "import numpy\n",
    "import re\n",
    "\n",
    "with open('words_counts_doc.csv', 'wb') as f:\n",
    "    writer = csv.writer(f)\n",
    "    counts_toarray = X_train_counts.transpose().toarray()\n",
    "    counter = 0\n",
    "    writer.writerow(['word_number', 'word_label', 'word'])\n",
    "    for word_num in range(0,6782):\n",
    "        if not re.match(r'[a-z]*[\\d]+[a-z]*', inv_dic[counter]): #exclude the words containing numbers\n",
    "            counts_row = counts_toarray[word_num].ravel()\n",
    "            writer.writerow(numpy.append([counter, kmeans_word_tfidf.labels_[counter], inv_dic[counter].encode('utf-8')], counts_row))\n",
    "        counter += 1\n",
    "    f.close()"
   ]
  },
  {
   "cell_type": "markdown",
   "metadata": {},
   "source": [
    "# 6. Save the matrix of TF-IDF to a file words_tfidf.csv"
   ]
  },
  {
   "cell_type": "code",
   "execution_count": 9,
   "metadata": {},
   "outputs": [],
   "source": [
    "with open('words_tfidf.csv', 'wb') as f:\n",
    "    writer = csv.writer(f)\n",
    "    tfidf_toarray = X_train_tfidf.transpose().toarray()\n",
    "    counter = 0\n",
    "    writer.writerow(['word_number', 'word_label', 'word'])\n",
    "    for word_num in range(0,6782):\n",
    "        if not re.match(r'[a-z]*[\\d]+[a-z]*', inv_dic[counter]): #exclude the words containing numbers\n",
    "            tfidf_row = tfidf_toarray[word_num].ravel()\n",
    "            writer.writerow(numpy.append([counter, kmeans_word_tfidf.labels_[counter], inv_dic[counter].encode('utf-8')], tfidf_row))\n",
    "        counter += 1\n",
    "    f.close()"
   ]
  },
  {
   "cell_type": "code",
   "execution_count": 27,
   "metadata": {
    "collapsed": true
   },
   "outputs": [
    {
     "name": "stdout",
     "output_type": "stream",
     "text": [
      "[2 1 1 1 1 0 1 1 1 1 1 1 1 1 1 1 0 1 1 0 1 1 1 0 1 1 1 1 0 1 1 1 1 1 1 1 1\n",
      " 1 1 2 2 1 0 0 1 1 0 0 0 0 0 0 1 1 1 0 0 1 0 0 0 0 1 1 1 0 0 1 1 1 1 0 1 1\n",
      " 0 1 0 1 1 1 0 0 1 1 1 1 0 2 1 1 0 0 1 1 1 1 0 1 1 1 0 0 1 1 0 1 0 0 0 1 0\n",
      " 0 1 1 1 1 0 2 1 1 2 0 0 1 1 1 0 0 1 0 0 0 0 0 0 1 1 0 1 0 1 1 1 1 0 0 1 1\n",
      " 1 0 0 0 1 1 1 1 0 1 0 0 0 0 1 1 0 0 0 0 0 1 0 0 0 0 0 1 0 0 1 1 1 1 0 0 1\n",
      " 1 1 0 0 1 1 1 0 0 0 0 0 0 0 0 0 0 0 0 0 0 0 1 1 0 0 0 0 0 0 0 0 0 0 0 0 0\n",
      " 0 0 0 0 0 0 0 0 0 0 0 0 0 0 0 0 0 0 0 0 0 0 0 0 0 0 0 0 0 0 0 0 0 0 0 0 0\n",
      " 0 0 0 0 0 0 0 0 0 0 0 0 0 0 0 0 0 0 0 0 0 0 0 0 0 0 0 0 0 0 0 0 0 0 0 0 0\n",
      " 0 0 0 0 0 0 0 0 0 0 0 0 0 0 0 0 0 0 0 0 0 0 0 0 0 0 0 0 0 0 0 0 0 0 0 0 0\n",
      " 0 0 0 0 0 0 0 0 0 0 0 0 0 0 0 0 0 0 0 0 0 0 0 0 0 0 0 0 0 0 0 0 0 0 0 0 0\n",
      " 0 0 0 0 0 0 0 0 0 0 0 0 0 0 0 0 0 0 0 0 0 0 0 0 0 0 0 0 0 0 0 0 0 0 0 0 0\n",
      " 0 0 0 0 0 0 0 0 0 0 0 0 0 0 0 0 0 0 0 0 0 0 0 0 0 0 0 0 0 0 0 0 0 0 0 1 0\n",
      " 0 0 0 0 0 0 0 0 0 0 0 0 0 0 0 0 0 0 0 0 0 0 0 0 0 0 0 0 0 0 0 0 0 0 0 0 0\n",
      " 0 0 0 0 0 0 0 0 0 0 0 0 0 0 0 0 0 0 0 0 0 0 0 0 0 0 0 0 0 0 0 0 0 0 0 0 0\n",
      " 0 0 0 0 0 0 0 0 0 0 0 0 0 0 0 0 0 0 0 0 0 0 0 0 0 0 0 0 0 0 0 0 0 0 0 0 0\n",
      " 0 0 0 0 0 0 0 0 0 0 0 0 0 0 0 0 0 0 0 0 0 0 0 0 0 0 0 0 0 0 0 0 0 0 0 0 0\n",
      " 0 0 0 0 0 0 0 0 0 0 0 0 0 0 0 0 0 0 0 0 0 0 0 0 0 0 0 0 0 0 0 0 0 0 0 0 0\n",
      " 0 0 0 0 0 0 0 0 0 0 0 0 0 0 0 0 0 0 0 0 0 0 0 0 0 0 0 0 0 0 0 0 0 0 0 0 0\n",
      " 0 0 0 0 0 0 0 0 0 0 0 0 0 0 0 0 0 0 0 0 0 0 0 0 0 0 0 0 0 0 0 0 0 0 0 0 0\n",
      " 0 0 0 0 0 0 0 0 0 0 0 0 0 0 0 0 0 0 0 0 0 0 0 0 0 0 0 0 0 0 0 0 0 0 0 0 0\n",
      " 0 0 0 0 0 0 0 0 0 0 0 0 0 0 0 0 0 0 0 0 0 0 0 0 0 0 0 0 0 0 0 0 0 0 0 0 0\n",
      " 0 0 0 0 0 0 0 0 0 0 0 0 0 0 0 0 0 0 0 0 0 0 0 0 0 0 0 0 0 0 0 0 0 0 0 0 0\n",
      " 0 0 0 0 0 0 0 0 0 0 0 0 0 0 0 0 0 0 0 0 0 0 0 0 0 0 0 0 0 0 0 0 0 0 0 0 0\n",
      " 0 0 0 0 0 0 0 0 0 0 0 0 0 0 0 0 0 0 0 0 0 0 0 0 0 0 0 0 0 0]\n"
     ]
    }
   ],
   "source": [
    "#print counts_toarray[1408].ravel()"
   ]
  },
  {
   "cell_type": "code",
   "execution_count": 29,
   "metadata": {
    "collapsed": true
   },
   "outputs": [
    {
     "name": "stdout",
     "output_type": "stream",
     "text": [
      "[ 0.15378242  0.05950127  0.08472414  0.08451068  0.08537696  0.\n",
      "  0.08060372  0.07650611  0.07152997  0.07507595  0.08439237  0.06768123\n",
      "  0.0526512   0.06670933  0.05411764  0.06818517  0.          0.05994355\n",
      "  0.06394068  0.          0.05649891  0.05386026  0.06228488  0.\n",
      "  0.04865489  0.05016467  0.0479381   0.04722444  0.          0.04046313\n",
      "  0.04219505  0.03837212  0.0437995   0.04921116  0.04568467  0.04859322\n",
      "  0.04151164  0.05208733  0.05507306  0.12412487  0.09565195  0.02803787\n",
      "  0.          0.          0.04900426  0.04370436  0.          0.          0.\n",
      "  0.          0.          0.          0.04553469  0.04507099  0.04370429\n",
      "  0.          0.          0.04532671  0.          0.          0.          0.\n",
      "  0.04204527  0.04635155  0.04685844  0.          0.          0.03412059\n",
      "  0.0391355   0.03760459  0.04372262  0.          0.03943014  0.03539594\n",
      "  0.          0.04384833  0.          0.03960106  0.04037027  0.02934158\n",
      "  0.          0.          0.02138647  0.04381216  0.03513792  0.03502619\n",
      "  0.          0.06501655  0.04118224  0.03594181  0.          0.\n",
      "  0.03537594  0.0307738   0.03996006  0.04728999  0.          0.03409522\n",
      "  0.04039394  0.04203954  0.          0.          0.04641826  0.04312079\n",
      "  0.          0.04148893  0.          0.          0.          0.0298074   0.\n",
      "  0.          0.02756785  0.02959056  0.02765056  0.02851476  0.\n",
      "  0.06620898  0.0352459   0.036161    0.06616165  0.          0.\n",
      "  0.03281402  0.03330014  0.02958257  0.          0.          0.04857806\n",
      "  0.          0.          0.          0.          0.          0.\n",
      "  0.04804452  0.04557667  0.          0.04500235  0.          0.04108268\n",
      "  0.03731539  0.03540866  0.04757033  0.          0.          0.03954113\n",
      "  0.03878133  0.04430326  0.          0.          0.          0.04310184\n",
      "  0.03802884  0.04156322  0.05056416  0.          0.03852907  0.          0.\n",
      "  0.          0.          0.03372683  0.04220897  0.          0.          0.\n",
      "  0.          0.          0.04629968  0.          0.          0.          0.\n",
      "  0.          0.02601255  0.          0.          0.03860484  0.03831741\n",
      "  0.03893822  0.05040184  0.          0.          0.04301207  0.03665337\n",
      "  0.04841768  0.          0.          0.04276304  0.0404839   0.03203294\n",
      "  0.          0.          0.          0.          0.          0.          0.\n",
      "  0.          0.          0.          0.          0.          0.          0.\n",
      "  0.          0.04271942  0.0361056   0.          0.          0.          0.\n",
      "  0.          0.          0.          0.          0.          0.          0.\n",
      "  0.          0.          0.          0.          0.          0.          0.\n",
      "  0.          0.          0.          0.          0.          0.          0.\n",
      "  0.          0.          0.          0.          0.          0.          0.\n",
      "  0.          0.          0.          0.          0.          0.          0.\n",
      "  0.          0.          0.          0.          0.          0.          0.\n",
      "  0.          0.          0.          0.          0.          0.          0.\n",
      "  0.          0.          0.          0.          0.          0.          0.\n",
      "  0.          0.          0.          0.          0.          0.          0.\n",
      "  0.          0.          0.          0.          0.          0.          0.\n",
      "  0.          0.          0.          0.          0.          0.          0.\n",
      "  0.          0.          0.          0.          0.          0.          0.\n",
      "  0.          0.          0.          0.          0.          0.          0.\n",
      "  0.          0.          0.          0.          0.          0.          0.\n",
      "  0.          0.          0.          0.          0.          0.          0.\n",
      "  0.          0.          0.          0.          0.          0.          0.\n",
      "  0.          0.          0.          0.          0.          0.          0.\n",
      "  0.          0.          0.          0.          0.          0.          0.\n",
      "  0.          0.          0.          0.          0.          0.          0.\n",
      "  0.          0.          0.          0.          0.          0.          0.\n",
      "  0.          0.          0.          0.          0.          0.          0.\n",
      "  0.          0.          0.          0.          0.          0.          0.\n",
      "  0.          0.          0.          0.          0.          0.          0.\n",
      "  0.          0.          0.          0.          0.          0.          0.\n",
      "  0.          0.          0.          0.          0.          0.          0.\n",
      "  0.          0.          0.          0.          0.          0.          0.\n",
      "  0.          0.          0.          0.          0.          0.          0.\n",
      "  0.          0.          0.          0.          0.          0.          0.\n",
      "  0.          0.          0.          0.          0.          0.          0.\n",
      "  0.          0.          0.          0.          0.          0.          0.\n",
      "  0.          0.          0.          0.          0.          0.          0.\n",
      "  0.          0.          0.          0.          0.          0.          0.\n",
      "  0.          0.          0.          0.          0.          0.03389534\n",
      "  0.          0.          0.          0.          0.          0.          0.\n",
      "  0.          0.          0.          0.          0.          0.          0.\n",
      "  0.          0.          0.          0.          0.          0.          0.\n",
      "  0.          0.          0.          0.          0.          0.          0.\n",
      "  0.          0.          0.          0.          0.          0.          0.\n",
      "  0.          0.          0.          0.          0.          0.          0.\n",
      "  0.          0.          0.          0.          0.          0.          0.\n",
      "  0.          0.          0.          0.          0.          0.          0.\n",
      "  0.          0.          0.          0.          0.          0.          0.\n",
      "  0.          0.          0.          0.          0.          0.          0.\n",
      "  0.          0.          0.          0.          0.          0.          0.\n",
      "  0.          0.          0.          0.          0.          0.          0.\n",
      "  0.          0.          0.          0.          0.          0.          0.\n",
      "  0.          0.          0.          0.          0.          0.          0.\n",
      "  0.          0.          0.          0.          0.          0.          0.\n",
      "  0.          0.          0.          0.          0.          0.          0.\n",
      "  0.          0.          0.          0.          0.          0.          0.\n",
      "  0.          0.          0.          0.          0.          0.          0.\n",
      "  0.          0.          0.          0.          0.          0.          0.\n",
      "  0.          0.          0.          0.          0.          0.          0.\n",
      "  0.          0.          0.          0.          0.          0.          0.\n",
      "  0.          0.          0.          0.          0.          0.          0.\n",
      "  0.          0.          0.          0.          0.          0.          0.\n",
      "  0.          0.          0.          0.          0.          0.          0.\n",
      "  0.          0.          0.          0.          0.          0.          0.\n",
      "  0.          0.          0.          0.          0.          0.          0.\n",
      "  0.          0.          0.          0.          0.          0.          0.\n",
      "  0.          0.          0.          0.          0.          0.          0.\n",
      "  0.          0.          0.          0.          0.          0.          0.\n",
      "  0.          0.          0.          0.          0.          0.          0.\n",
      "  0.          0.          0.          0.          0.          0.          0.\n",
      "  0.          0.          0.          0.          0.          0.          0.\n",
      "  0.          0.          0.          0.          0.          0.          0.\n",
      "  0.          0.          0.          0.          0.          0.          0.\n",
      "  0.          0.          0.          0.          0.          0.          0.\n",
      "  0.          0.          0.          0.          0.          0.          0.\n",
      "  0.          0.          0.          0.          0.          0.          0.\n",
      "  0.          0.          0.          0.          0.          0.          0.\n",
      "  0.          0.          0.          0.          0.          0.          0.\n",
      "  0.          0.          0.          0.          0.          0.          0.\n",
      "  0.          0.          0.          0.          0.          0.          0.\n",
      "  0.          0.          0.          0.          0.          0.          0.\n",
      "  0.          0.          0.          0.          0.          0.          0.\n",
      "  0.          0.          0.          0.          0.          0.          0.\n",
      "  0.          0.          0.          0.          0.          0.          0.\n",
      "  0.          0.          0.          0.          0.          0.          0.\n",
      "  0.          0.          0.          0.          0.          0.          0.\n",
      "  0.          0.          0.          0.          0.          0.          0.\n",
      "  0.          0.          0.          0.          0.          0.          0.\n",
      "  0.          0.          0.          0.          0.          0.          0.\n",
      "  0.          0.          0.          0.          0.          0.          0.\n",
      "  0.          0.          0.          0.          0.          0.          0.\n",
      "  0.          0.          0.          0.          0.          0.          0.\n",
      "  0.          0.          0.          0.          0.          0.          0.\n",
      "  0.          0.          0.          0.          0.          0.          0.\n",
      "  0.          0.          0.          0.          0.          0.          0.\n",
      "  0.          0.          0.          0.          0.          0.          0.\n",
      "  0.          0.          0.          0.          0.          0.          0.\n",
      "  0.          0.          0.          0.          0.          0.          0.\n",
      "  0.          0.          0.          0.          0.          0.          0.\n",
      "  0.          0.          0.          0.          0.          0.          0.\n",
      "  0.          0.          0.          0.          0.          0.          0.\n",
      "  0.          0.          0.          0.        ]\n"
     ]
    }
   ],
   "source": [
    "#print tfidf_toarray[1408].ravel()"
   ]
  },
  {
   "cell_type": "code",
   "execution_count": null,
   "metadata": {
    "collapsed": true
   },
   "outputs": [],
   "source": []
  },
  {
   "cell_type": "code",
   "execution_count": null,
   "metadata": {
    "collapsed": true
   },
   "outputs": [],
   "source": []
  }
 ],
 "metadata": {
  "kernelspec": {
   "display_name": "Python 3",
   "language": "python",
   "name": "python3"
  },
  "language_info": {
   "codemirror_mode": {
    "name": "ipython",
    "version": 3
   },
   "file_extension": ".py",
   "mimetype": "text/x-python",
   "name": "python",
   "nbconvert_exporter": "python",
   "pygments_lexer": "ipython3",
   "version": "3.6.1"
  }
 },
 "nbformat": 4,
 "nbformat_minor": 2
}
